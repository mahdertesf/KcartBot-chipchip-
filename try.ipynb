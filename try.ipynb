{
 "cells": [
  {
   "cell_type": "code",
   "execution_count": 11,
   "id": "8ff79142",
   "metadata": {},
   "outputs": [
    {
     "name": "stdout",
     "output_type": "stream",
     "text": [
      "Generated image: https://im.runware.ai/image/ws/2/ii/927af50d-0326-4d92-8f99-b6ce25fb4c10.jpg\n"
     ]
    }
   ],
   "source": [
    "from runware import Runware, IImageInference\n",
    "RUNWARE_API_KEY='uOgXL6Ij3Ub94DwE7NFm99GKywjZoKA8'\n",
    "\n",
    "async def main():\n",
    "    runware = Runware(api_key=RUNWARE_API_KEY)\n",
    "\n",
    "    # Establish connection before making requests\n",
    "    await runware.connect()\n",
    "\n",
    "    # Perform operations - connection maintained automatically\n",
    "    request = IImageInference(\n",
    "        positivePrompt=\"Avocado for sale in market\",\n",
    "        model=\"runware:101@1\",\n",
    "        width=1024,\n",
    "        height=1024\n",
    "    )\n",
    "\n",
    "    images = await runware.imageInference(requestImage=request)\n",
    "    print(f\"Generated image: {images[0].imageURL}\")\n",
    "\n",
    "    # Connection cleanup (optional - handled automatically)\n",
    "    await runware.disconnect()\n",
    "\n",
    "# Run the async function in Jupyter\n",
    "await main()"
   ]
  },
  {
   "cell_type": "code",
   "execution_count": null,
   "id": "d9efb048",
   "metadata": {},
   "outputs": [],
   "source": []
  }
 ],
 "metadata": {
  "kernelspec": {
   "display_name": "Venv",
   "language": "python",
   "name": "python3"
  },
  "language_info": {
   "codemirror_mode": {
    "name": "ipython",
    "version": 3
   },
   "file_extension": ".py",
   "mimetype": "text/x-python",
   "name": "python",
   "nbconvert_exporter": "python",
   "pygments_lexer": "ipython3",
   "version": "3.13.3"
  }
 },
 "nbformat": 4,
 "nbformat_minor": 5
}
